{
 "cells": [
  {
   "cell_type": "code",
   "execution_count": 1,
   "id": "c7b25237",
   "metadata": {},
   "outputs": [
    {
     "name": "stdout",
     "output_type": "stream",
     "text": [
      ",\n",
      "Y\n",
      "He&\n",
      "HeA\n",
      "Hes\n",
      "Hello Worl\u001f\n",
      "Hello World"
     ]
    }
   ],
   "source": [
    "from random import randrange as rand\n",
    "from time import sleep\n",
    "\n",
    "\n",
    "# A very beautiful function which will keep printing a string with a random character, until the expected character is drawn\n",
    "def printHelloWorld(current_str, expectedChar):\n",
    "    while True:\n",
    "        tempChar = rand(0, 127)\n",
    "        print(\"\\r\" + current_str + chr(tempChar), end=\"\")\n",
    "        sleep(0.1)  # Comment this line to see the result instantly\n",
    "        if chr(tempChar) == expectedChar:\n",
    "            break\n",
    "\n",
    "\n",
    "output_str = \"Hello World\"\n",
    "present_str = \"\"\n",
    "\n",
    "# Try to get the matching character for every character in the string. Good Luck!\n",
    "for char in output_str:\n",
    "    printHelloWorld(present_str, char)\n",
    "    present_str += char"
   ]
  }
 ],
 "metadata": {
  "kernelspec": {
   "display_name": "Python 3",
   "language": "python",
   "name": "python3"
  },
  "language_info": {
   "codemirror_mode": {
    "name": "ipython",
    "version": 3
   },
   "file_extension": ".py",
   "mimetype": "text/x-python",
   "name": "python",
   "nbconvert_exporter": "python",
   "pygments_lexer": "ipython3",
   "version": "3.8.8"
  }
 },
 "nbformat": 4,
 "nbformat_minor": 5
}
